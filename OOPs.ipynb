{
  "nbformat": 4,
  "nbformat_minor": 0,
  "metadata": {
    "colab": {
      "provenance": []
    },
    "kernelspec": {
      "name": "python3",
      "display_name": "Python 3"
    },
    "language_info": {
      "name": "python"
    }
  },
  "cells": [
    {
      "cell_type": "markdown",
      "source": [
        "OOPs\n",
        "\n",
        "---\n",
        "\n",
        "\n",
        "\n",
        "1. What is Object-Oriented Programming (OOP)?\n",
        "  - Object-oriented programming (OOP) is a style of programming characterized by the identification of classes of objects closely linked with the methods (functions) with which they are associated. It also includes ideas of inheritance of attributes and methods.\n",
        "\n",
        "2.  What is a class in OOP?\n",
        "  - In object-oriented programming, a class is a template definition of the methods and variables in a particular kind of object. Thus, an object is a specific instance of a class; it contains real values instead of variables. The class is one of the defining ideas of object-oriented programming.\n",
        "\n",
        "3.  What is an object in OOP?\n",
        "  - An object is a component of a program that knows how to perform certain actions and how to interact with other elements of the program.\n",
        "\n",
        "4.  What is the difference between abstraction and encapsulation?\n",
        "   - Encapsulation is the practice of bundling data and methods within a single unit, like a class, and controlling their access, whereas abstraction is about hiding complex implementation details and exposing only the essential functionalities.\n",
        "\n",
        "5.  What are dunder methods in Python?\n",
        "  - dunder method are the built in method which starts with double underscore and also ends with double underscore and performs some operations.\n",
        "\n",
        "6. Explain the concept of inheritance in OOP.\n",
        "  - inheritancce means parents class can give there function to their child class, when we access the child class we can also access the functions of parent class. There could be multiple inheritance between class.\n",
        "\n",
        "7. What is polymorphism in OOP?\n",
        "  - Polymorphism is a feature of object-oriented programming languages that allows a specific routine to use variables of different types at different times. Polymorphism in programming gives a program the ability to redefine methods for derived classes.\n",
        "\n",
        "8. How is encapsulation achieved in Python?\n",
        "  - encapsulation can be achieved by declaring a function private or protected function, we can private or protect the function by using single underscore or double underscore in start of the function.\n",
        "\n",
        "9. What is a constructor in Python?\n",
        "  - Constructors in Python is a special class method for creating and initializing an object instance at that class. The purpose of the constructor is to construct an object and assign a value to the object's members.\n",
        "\n",
        "10. What are class and static methods in Python?\n",
        "  - A class method takes cls as the first parameter while a static method needs no specific parameters. A class method can access or modify the class state while a static method can't access or modify it. In general, static methods know nothing about the class state.\n",
        "\n",
        "11. What is method overloading in Python?\n",
        "  - Two or more methods have the same name but different numbers of parameters or different types of parameters, or both. These methods are called overloaded methods and this is called method overloading.\n",
        "\n",
        "12.  What is method overriding in OOP?\n",
        "  - Method overriding, in object-oriented programming, is a language feature that allows a subclass or child class to provide a specific implementation of a method that is already provided by one of its superclasses or parent classes.\n",
        "\n",
        "13. What is a property decorator in Python?\n",
        "  - property decorator helps to modify the class or make function for the particular class from outside of the class. we can make any function a property function by using @propertydecorator at the earlier line of the function.\n",
        "\n",
        "14.  Why is polymorphism important in OOP?\n",
        "  - Because Python allows various classes to have methods with the same name, we can leverage the concept of polymorphism when constructing class methods.\n",
        "\n",
        "15. What is an abstract class in Python?\n",
        "  - An abstract class is a class that cannot be instantiated and will contain one or more abstract methods — methods without a defined implementation.\n",
        "\n",
        "16. What are the advantages of OOP?\n",
        "  - One of the top advantages of OOP is that it allows developers to divide a complex software system into small, manageable objects. Each object is responsible for a specific function. They can develop, test, and maintain these self-contained units independently.\n",
        "  - other importance of OOP ->\n",
        "  Re-usability. It means reusing some facilities rather than building them again and again. ...\n",
        "  Data Redundancy. ...\n",
        "  Code Maintenance. ...\n",
        "  Security. ...\n",
        "  Better productivity. ...\n",
        "  Easy troubleshooting. ...\n",
        "  Polymorphism Flexibility. ...\n",
        "  Problems solving\n",
        "\n",
        "17.  What is the difference between a class variable and an instance variable?\n",
        "  - Class variables are defined within the class but outside of any class methods. Instance variables are defined within class methods, typically the constructor.\n",
        "\n",
        "18.  What is multiple inheritance in Python?\n",
        "  - multiple inheritance means using function of parent class to more than one child class. or it can be use by using parent class and child class's function to other child class along with there funtion.\n",
        "\n",
        "19.  Explain the purpose of ‘’__str__’ and ‘__repr__’ ‘ methods in Python.\n",
        "  - both are the dunder methods '__str__' helps to give the string representation of the variable.\n",
        "  - __str__ is used for informal string representations, such as printing objects for user consumption. __repr__ is used for formal string representations, including debugging, logging, and object inspection.\n",
        "\n",
        "20.  What is the significance of the ‘super()’ function in Python?\n",
        "  - The super() function is used to give access to methods and properties of a parent or sibling class. The super() function returns an object that represents the parent class.\n",
        "\n",
        "21. What is the significance of the __del__ method in Python?\n",
        "  - del method is used to delete the function mentioned within the method, once you deleted any method you can not call that function or method.\n",
        "\n",
        "22.  What is the difference between @staticmethod and @classmethod in Python?\n",
        "  - A class method takes cls as the first parameter while a static method needs no specific parameters. A class method can access or modify the class state while a static method can't access or modify it. In general, static methods know nothing about the class state.\n",
        "\n",
        "23. How does polymorphism work in Python with inheritance?\n",
        "  - Polymorphism, a child class method is allowed to have the same name as the class methods in the parent class. In inheritance, the methods belonging to the parent class are passed down to the child class. It's also possible to change a method that a child class has inherited from its parent.\n",
        "\n",
        "24. What is method chaining in Python OOP?\n",
        "  - Method chaining refers to calling multiple methods sequentially on the same object in a single expression. Each method call returns an object, often the same object (modified or not), allowing the subsequent method to operate on that object.\n",
        "\n",
        "25. What is the purpose of the __call__ method in Python?\n",
        "  - this method is usefull for calling the class object.The __call__ method allows for dynamic initialization of instances based on the arguments passed during the call."
      ],
      "metadata": {
        "id": "WpuG3joNBRn1"
      }
    },
    {
      "cell_type": "code",
      "execution_count": 1,
      "metadata": {
        "colab": {
          "base_uri": "https://localhost:8080/"
        },
        "id": "T4rmcw7ZBPo-",
        "outputId": "68b5fa27-6c81-4426-e76f-022b6ad297da"
      },
      "outputs": [
        {
          "output_type": "stream",
          "name": "stdout",
          "text": [
            "Bark!\n"
          ]
        }
      ],
      "source": [
        "#1. Create a parent class Animal with a method speak() that prints a generic message. Create a child class Dog that overrides the speak() method to print \"Bark!\".\n",
        "\n",
        "class animal:\n",
        "    def speak(self):\n",
        "        print(\"voice of the animal.\")\n",
        "\n",
        "class dog(animal):\n",
        "    def speak(self):\n",
        "        print(\"Bark!\")\n",
        "\n",
        "call = dog()\n",
        "call.speak()"
      ]
    },
    {
      "cell_type": "code",
      "source": [
        "#2. Write a program to create an abstract class Shape with a method area(). Derive classes Circle and Rectangle from it and implement the area() method in both.\n",
        "\n",
        "import abc\n",
        "class shape:\n",
        "    @abc.abstractmethod\n",
        "    def circle_area(self, radius):\n",
        "        self.radius = radius\n",
        "        area = 3.14*radius**2\n",
        "        return area\n",
        "    @abc.abstractmethod\n",
        "    def rectangle_area(self, a, b):\n",
        "        self.a = a\n",
        "        self.b = b\n",
        "        area = a * b\n",
        "        return area\n",
        "\n",
        "class circle(shape):\n",
        "    def circle_area(self, radius):\n",
        "        return super().circle_area(radius)\n",
        "\n",
        "class rectangle(shape):\n",
        "    def rectangle_area(self, a, b):\n",
        "        return super().rectangle_area(a, b)\n",
        "\n",
        "ans = circle()\n",
        "print(\"area of circle =\", ans.circle_area(4))\n",
        "\n",
        "ans = rectangle()\n",
        "print(\"area of rectangle =\", ans.rectangle_area(4, 5))"
      ],
      "metadata": {
        "colab": {
          "base_uri": "https://localhost:8080/"
        },
        "id": "k7qYM1IJSKPn",
        "outputId": "9308bc36-b4b2-4eb3-f2db-7c9b92653d26"
      },
      "execution_count": 2,
      "outputs": [
        {
          "output_type": "stream",
          "name": "stdout",
          "text": [
            "area of circle = 50.24\n",
            "area of rectangle = 20\n"
          ]
        }
      ]
    },
    {
      "cell_type": "code",
      "source": [
        "#3. Implement a multi-level inheritance scenario where a class Vehicle has an attribute type. Derive a class Car and further derive a class ElectricCar that adds a battery attribute.\n",
        "\n",
        "class vehicle:\n",
        "    def type(self):\n",
        "        print(\"this is a type of vehicle.\")\n",
        "\n",
        "class car():\n",
        "    def colour(self):\n",
        "        print(\"colour of the car.\")\n",
        "\n",
        "class ElectricCar(vehicle, car):\n",
        "    def battery(self):\n",
        "        print(\"adding battery to the car.\")\n",
        "\n",
        "atr = ElectricCar()\n",
        "atr.type()\n",
        "atr.colour()\n",
        "atr.battery()"
      ],
      "metadata": {
        "colab": {
          "base_uri": "https://localhost:8080/"
        },
        "id": "iDqAFrDUXgov",
        "outputId": "6862c76f-65c3-4894-b058-6da22f0444bc"
      },
      "execution_count": 3,
      "outputs": [
        {
          "output_type": "stream",
          "name": "stdout",
          "text": [
            "this is a type of vehicle.\n",
            "colour of the car.\n",
            "adding battery to the car.\n"
          ]
        }
      ]
    },
    {
      "cell_type": "code",
      "source": [
        "#4. . Implement a multi-level inheritance scenario where a class Vehicle has an attribute type. Derive a class Car\n",
        "# and further derive a class ElectricCar that adds a battery attribute.\n",
        "\n",
        "class vehicle:\n",
        "    def type(self):\n",
        "        print(\"this is a type of vehicle.\")\n",
        "\n",
        "class car():\n",
        "    def colour(self):\n",
        "        print(\"colour of the car.\")\n",
        "\n",
        "class ElectricCar(vehicle, car):\n",
        "    def battery(self):\n",
        "        print(\"adding battery to the car.\")\n",
        "\n",
        "atr = ElectricCar()\n",
        "atr.type()\n",
        "atr.colour()\n",
        "atr.battery()"
      ],
      "metadata": {
        "colab": {
          "base_uri": "https://localhost:8080/"
        },
        "id": "rzoFdxt4Zr82",
        "outputId": "127f1850-12d1-4d04-8baa-6a6b859b7c93"
      },
      "execution_count": 4,
      "outputs": [
        {
          "output_type": "stream",
          "name": "stdout",
          "text": [
            "this is a type of vehicle.\n",
            "colour of the car.\n",
            "adding battery to the car.\n"
          ]
        }
      ]
    },
    {
      "cell_type": "code",
      "source": [
        "#5. Write a program to demonstrate encapsulation by creating a class BankAccount with private attributes\n",
        "# balance and methods to deposit, withdraw, and check balance.\n",
        "\n",
        "class bankAccount:\n",
        "    def balance(self, __balance):\n",
        "        self.__balance = __balance\n",
        "\n",
        "    def deposite(self, amt):\n",
        "        self.amt = amt\n",
        "        self.__balance = self.amt + self.__balance\n",
        "\n",
        "    def withdraw(self, withdraw_amt):\n",
        "        self.withdraw_amt = withdraw_amt\n",
        "        self.__balance = self.__balance - self.withdraw_amt\n",
        "\n",
        "    def check_balance(self):\n",
        "        print(self.__balance)\n",
        "\n",
        "acc = bankAccount()\n",
        "acc.balance(0)\n",
        "acc.deposite(5000)\n",
        "acc.withdraw(1050)\n",
        "acc.check_balance()"
      ],
      "metadata": {
        "colab": {
          "base_uri": "https://localhost:8080/"
        },
        "id": "mjA3ph7HaFgV",
        "outputId": "6667d6bc-1131-4e09-8cfb-85cb82270824"
      },
      "execution_count": 5,
      "outputs": [
        {
          "output_type": "stream",
          "name": "stdout",
          "text": [
            "3950\n"
          ]
        }
      ]
    },
    {
      "cell_type": "code",
      "source": [
        "#6. Demonstrate runtime polymorphism using a method play() in a base class Instrument. Derive classes Guitar\n",
        "# and Piano that implement their own version of play().\n",
        "\n",
        "class Instrument:\n",
        "    def play(self):\n",
        "        print(\"playint the instrument.\")\n",
        "\n",
        "class Guitar(Instrument):\n",
        "    def play(self):\n",
        "        return print(\"playing guitar.\")\n",
        "\n",
        "class Piano(Instrument):\n",
        "    def play(self):\n",
        "        return print(\"playing Piano.\")\n",
        "\n",
        "test = Guitar()\n",
        "test.play()\n",
        "test2 = Piano()\n",
        "test2.play()"
      ],
      "metadata": {
        "colab": {
          "base_uri": "https://localhost:8080/"
        },
        "id": "09vuNVZvhKO-",
        "outputId": "fdc29935-b0be-4e63-fd19-94ddf6d689ad"
      },
      "execution_count": 6,
      "outputs": [
        {
          "output_type": "stream",
          "name": "stdout",
          "text": [
            "playing guitar.\n",
            "playing Piano.\n"
          ]
        }
      ]
    },
    {
      "cell_type": "code",
      "source": [
        "#7. Create a class MathOperations with a class method add_numbers() to add two numbers and a static\n",
        "# method subtract_numbers() to subtract two numbers.\n",
        "\n",
        "class MathOperation:\n",
        "\n",
        "    def __init__(self, a, b):\n",
        "        self.a = a\n",
        "        self.b = b\n",
        "        MathOperation.total = self.a + self.b\n",
        "    @classmethod\n",
        "    def add_nummbers(cls):\n",
        "        return print(cls.total)\n",
        "\n",
        "    @staticmethod\n",
        "    def substract(x, y):\n",
        "        return print(x - y)\n",
        "\n",
        "ops = MathOperation(5, 4)\n",
        "ops.add_nummbers()\n",
        "MathOperation.substract(5, 5)"
      ],
      "metadata": {
        "colab": {
          "base_uri": "https://localhost:8080/"
        },
        "id": "dvH6X5MPi63W",
        "outputId": "bcfb820a-dd71-4a04-a72b-8885d686033f"
      },
      "execution_count": 7,
      "outputs": [
        {
          "output_type": "stream",
          "name": "stdout",
          "text": [
            "9\n",
            "0\n"
          ]
        }
      ]
    },
    {
      "cell_type": "code",
      "source": [
        "#8. Implement a class Person with a class method to count the total number of persons created.\n",
        "\n",
        "class person:\n",
        "\n",
        "    total_person = 0\n",
        "    def __init__(self, name):\n",
        "        self.name = name\n",
        "        person.total_person += 1\n",
        "\n",
        "    @classmethod\n",
        "    def total_numbers(cls):\n",
        "        return cls.total_person\n",
        "\n",
        "\n",
        "person1 = person(\"vipul\")\n",
        "person2 = person(\"ayush\")\n",
        "person3 = person(\"abc\")\n",
        "print(person.total_numbers())"
      ],
      "metadata": {
        "colab": {
          "base_uri": "https://localhost:8080/"
        },
        "id": "zIlJMVBfpLHl",
        "outputId": "39f61192-d504-4cae-d203-fa95768ed7e1"
      },
      "execution_count": 8,
      "outputs": [
        {
          "output_type": "stream",
          "name": "stdout",
          "text": [
            "3\n"
          ]
        }
      ]
    },
    {
      "cell_type": "code",
      "source": [
        "#9. Write a class Fraction with attributes numerator and denominator. Override the str method to display the\n",
        "# fraction as \"numerator/denominator\".\n",
        "\n",
        "class fraction:\n",
        "    def __init__(self, x , y):\n",
        "        self.x = x\n",
        "        self.y = y\n",
        "        self.x / self.y\n",
        "\n",
        "    def __str__(self):\n",
        "        return f\"{self.x} / {self.y}\"\n",
        "\n",
        "frc = fraction(5, 4)\n",
        "print(frc)"
      ],
      "metadata": {
        "colab": {
          "base_uri": "https://localhost:8080/"
        },
        "id": "miNlXGnprM8e",
        "outputId": "4842ff85-665e-4988-9c0c-e98ada8a5fd3"
      },
      "execution_count": 9,
      "outputs": [
        {
          "output_type": "stream",
          "name": "stdout",
          "text": [
            "5 / 4\n"
          ]
        }
      ]
    },
    {
      "cell_type": "code",
      "source": [
        "#10. Demonstrate operator overloading by creating a class Vector and overriding the add method to add two vectors.\n",
        "\n",
        "class vector:\n",
        "    def __init__(self, x, y):\n",
        "        self.x = x\n",
        "        self.y = y\n",
        "    def adds(self):\n",
        "        return self.x.__add__(self.y)\n",
        "\n",
        "add = vector(5, 4)\n",
        "print(add.adds())"
      ],
      "metadata": {
        "colab": {
          "base_uri": "https://localhost:8080/"
        },
        "id": "EhsgVBFx04X6",
        "outputId": "81d5a7a3-28ce-486f-f578-d6bb2d34ff3a"
      },
      "execution_count": 10,
      "outputs": [
        {
          "output_type": "stream",
          "name": "stdout",
          "text": [
            "9\n"
          ]
        }
      ]
    },
    {
      "cell_type": "code",
      "source": [
        "#11. Create a class Person with attributes name and age. Add a method greet() that prints \"Hello, my name is\n",
        "# {name} and I am {age} years old.\"\n",
        "\n",
        "class person:\n",
        "    def __init__(self, name, age):\n",
        "        self.name = name\n",
        "        self.age = age\n",
        "\n",
        "    def greet(self):\n",
        "        print(f\"Hello, my name is {self.name} and i am {self.age} years old.\")\n",
        "\n",
        "greets = person(\"vipul\", 21)\n",
        "greets.greet()"
      ],
      "metadata": {
        "colab": {
          "base_uri": "https://localhost:8080/"
        },
        "id": "WwmK2o-G2wV6",
        "outputId": "16baf360-b70f-4a4e-ca0f-15339194283d"
      },
      "execution_count": 11,
      "outputs": [
        {
          "output_type": "stream",
          "name": "stdout",
          "text": [
            "Hello, my name is vipul and i am 21 years old.\n"
          ]
        }
      ]
    },
    {
      "cell_type": "code",
      "source": [
        "#12. Implement a class Student with attributes name and grades. Create a method average_grade() to compute\n",
        "# the average of the grades.\n",
        "\n",
        "class student:\n",
        "    def __init__(self, name, grade1, grade2, grade3):\n",
        "        self.name = name\n",
        "        self.grade1 = grade1\n",
        "        self.grade2 = grade2\n",
        "        self.grade3 = grade3\n",
        "    def average(self):\n",
        "        total = self.grade1 + self.grade2 + self.grade3\n",
        "        average = total / 3\n",
        "        return print(average)\n",
        "\n",
        "avg = student(\"vipul\", 98, 95, 89)\n",
        "avg.average()"
      ],
      "metadata": {
        "colab": {
          "base_uri": "https://localhost:8080/"
        },
        "id": "2oE81jyM35Kp",
        "outputId": "3494c1b5-d5e7-4b83-e24e-7a0f205144a8"
      },
      "execution_count": 12,
      "outputs": [
        {
          "output_type": "stream",
          "name": "stdout",
          "text": [
            "94.0\n"
          ]
        }
      ]
    },
    {
      "cell_type": "code",
      "source": [
        "#13. Create a class Rectangle with methods set_dimensions() to set the dimensions and area() to calculate the area.\n",
        "\n",
        "class rectangle:\n",
        "    def set_dimention(x , y):\n",
        "        def area():\n",
        "            total = x * y\n",
        "            print(total)\n",
        "        return print(area())\n",
        "\n",
        "rectangle.set_dimention(5, 4)"
      ],
      "metadata": {
        "colab": {
          "base_uri": "https://localhost:8080/"
        },
        "id": "ma-0Q8OG7lxz",
        "outputId": "c59bd438-c02a-4974-c515-4c95c14789c5"
      },
      "execution_count": 13,
      "outputs": [
        {
          "output_type": "stream",
          "name": "stdout",
          "text": [
            "20\n",
            "None\n"
          ]
        }
      ]
    },
    {
      "cell_type": "code",
      "source": [
        "#14. Create a class Employee with a method calculate_salary() that computes the salary based on hours worked\n",
        "# and hourly rate. Create a derived class Manager that adds a bonus to the salary.\n",
        "\n",
        "class employee:\n",
        "    def __init__(self, x, y):\n",
        "        self.x = x\n",
        "        self.y = y\n",
        "\n",
        "    def calculate_salary(self):\n",
        "        salary = self.x * self.y\n",
        "        return salary\n",
        "    def manager(self, z):\n",
        "        total = employee.calculate_salary(self) + z\n",
        "        return print(total)\n",
        "\n",
        "emp = employee(500, 8)\n",
        "emp.manager(2000)"
      ],
      "metadata": {
        "colab": {
          "base_uri": "https://localhost:8080/"
        },
        "id": "1XDDWlpo-4vD",
        "outputId": "480e119c-bfec-4219-afec-61d6547c1103"
      },
      "execution_count": 14,
      "outputs": [
        {
          "output_type": "stream",
          "name": "stdout",
          "text": [
            "6000\n"
          ]
        }
      ]
    },
    {
      "cell_type": "code",
      "source": [
        "#15. Create a class Product with attributes name, price, and quantity. Implement a method total_price() that\n",
        "# calculates the total price of the product.\n",
        "\n",
        "class product:\n",
        "    def __init__(self, name, price, quantity):\n",
        "        self.name = name\n",
        "        self.price = price\n",
        "        self.quantity = quantity\n",
        "    def total_price(self):\n",
        "        return print(self.price * self.quantity)\n",
        "\n",
        "amt = product(\"customer\", 500, 4)\n",
        "amt.total_price()"
      ],
      "metadata": {
        "colab": {
          "base_uri": "https://localhost:8080/"
        },
        "id": "r1WnDPqOB5xC",
        "outputId": "dc56a56f-fc28-4739-daa8-77154b5680c6"
      },
      "execution_count": 15,
      "outputs": [
        {
          "output_type": "stream",
          "name": "stdout",
          "text": [
            "2000\n"
          ]
        }
      ]
    },
    {
      "cell_type": "code",
      "source": [
        "#16. Create a class Animal with an abstract method sound(). Create two derived classes Cow and Sheep that\n",
        "# implement the sound() method.\n",
        "\n",
        "import abc\n",
        "class animal:\n",
        "    @abc.abstractmethod\n",
        "    def sound(self):\n",
        "        print(\"this is the sound of the animal\")\n",
        "\n",
        "class cow(animal):\n",
        "    def sound(self):\n",
        "        return super().sound()\n",
        "class sheep(animal):\n",
        "    def sound(self):\n",
        "        return super().sound()\n",
        "voice = cow()\n",
        "voice.sound()\n",
        "\n",
        "voice2 = sheep()\n",
        "voice2.sound()"
      ],
      "metadata": {
        "colab": {
          "base_uri": "https://localhost:8080/"
        },
        "id": "e_d10e8tCyha",
        "outputId": "b20bcbc2-c5c4-4ad5-9366-de9b62fc6d13"
      },
      "execution_count": 16,
      "outputs": [
        {
          "output_type": "stream",
          "name": "stdout",
          "text": [
            "this is the sound of the animal\n",
            "this is the sound of the animal\n"
          ]
        }
      ]
    },
    {
      "cell_type": "code",
      "source": [
        "#17. Create a class Book with attributes title, author, and year_published. Add a method get_book_info() that\n",
        "# returns a formatted string with the book's details.\n",
        "\n",
        "class Book:\n",
        "    def __init__(self, title, author, year_published):\n",
        "        self.title = title\n",
        "        self.author = author\n",
        "        self.year_published = year_published\n",
        "\n",
        "    def get_book_info(self):\n",
        "        return print(f\"author name = {self.author}\\ntitle of the book is {self.title}\\nbook was published in year {self.year_published}.\")\n",
        "\n",
        "info = Book(\"abc\", \"xyz\", 2000)\n",
        "info.get_book_info()"
      ],
      "metadata": {
        "colab": {
          "base_uri": "https://localhost:8080/"
        },
        "id": "fHg-aEEyFU9Z",
        "outputId": "ea8a5813-a246-4133-de17-24c139349f66"
      },
      "execution_count": 17,
      "outputs": [
        {
          "output_type": "stream",
          "name": "stdout",
          "text": [
            "author name = xyz\n",
            "title of the book is abc\n",
            "book was published in year 2000.\n"
          ]
        }
      ]
    },
    {
      "cell_type": "code",
      "source": [
        "#18. Create a class House with attributes address and price. Create a derived class Mansion that adds an\n",
        "# attribute number_of_rooms.\n",
        "\n",
        "class house:\n",
        "    def __init__(self, address, price):\n",
        "        self.address = address\n",
        "        self.price = price\n",
        "\n",
        "class mansion(house):\n",
        "    def __init__(self, number_of_rooms):\n",
        "        self.number_of_rooms = number_of_rooms\n",
        "\n",
        "home1 = house(\"this is the address\", \"1.5 crore\")\n",
        "home = mansion(5)\n",
        "print(home1.address)\n",
        "print(home1.price)\n",
        "print(home.number_of_rooms)"
      ],
      "metadata": {
        "colab": {
          "base_uri": "https://localhost:8080/"
        },
        "id": "4UMQ76yzHEGS",
        "outputId": "e2caad9d-db22-41f8-e808-4be8a163c0e6"
      },
      "execution_count": 18,
      "outputs": [
        {
          "output_type": "stream",
          "name": "stdout",
          "text": [
            "this is the address\n",
            "1.5 crore\n",
            "5\n"
          ]
        }
      ]
    }
  ]
}